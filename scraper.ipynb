{
 "cells": [
  {
   "cell_type": "code",
   "execution_count": 3,
   "metadata": {},
   "outputs": [],
   "source": [
    "import urllib\n",
    "import requests\n",
    "import os"
   ]
  },
  {
   "cell_type": "code",
   "execution_count": 4,
   "metadata": {},
   "outputs": [
    {
     "name": "stdout",
     "output_type": "stream",
     "text": [
      "Directory already  present\n"
     ]
    }
   ],
   "source": [
    "directory = \"images\"\n",
    " \n",
    "if not os.path.exists(directory):\n",
    "        os.mkdir(directory)\n",
    "        print('Directory made')\n",
    "print('Directory already  present')\n",
    "\n",
    "\n",
    "filename = 'url.txt'\n",
    "lines = list(open(filename, 'r'))"
   ]
  },
  {
   "cell_type": "code",
   "execution_count": null,
   "metadata": {},
   "outputs": [
    {
     "name": "stdout",
     "output_type": "stream",
     "text": [
      "URL =  https://www.lizandliz.com/media/catalog/product/cache/4/image/9df78eab33525d08d6e5fb8d27136e95/b/l/blake-lively-blue-dress-2016-cannes-film-festival-4.jpg\n",
      "Downloading file:images/lizandLiz_0.jpg\n",
      "URL =  https://www.lizandliz.com/media/catalog/product/cache/4/thumbnail/9df78eab33525d08d6e5fb8d27136e95/b/l/blake-lively-david-letterman-show-dress-2.jpg\n",
      "Downloading file:images/lizandLiz_1.jpg\n",
      "URL =  https://www.thecelebritydresses.com/media/catalog/product/cache/1/image/650x/040ec09b1e35df139433887a97daa66f/b/l/blake_lively_sexy_red_evening_dress_emmys-2011_0_1.jpg\n",
      "Downloading file:images/lizandLiz_2.jpg\n",
      "URL =  https://hips.hearstapps.com/elleuk.cdnds.net/17/21/blakelively4.jpg\n",
      "Downloading file:images/lizandLiz_3.jpg\n",
      "URL =  https://www.thecelebritydresses.com/media/catalog/product/b/l/blake_lively_burgundy_prom_dress_cannes_2014_red_carpet_2.jpg\n",
      "Downloading file:images/lizandLiz_4.jpg\n",
      "URL =  https://ae01.alicdn.com/kf/HTB1hKhbJXXXXXXKXpXXq6xXFXXX6/Dressv-Celebrity-Dresses-Long-Burgundy-Evening-Dresses-2017-Halter-Sleeveless-Blake-Lively-Dress-Formal-Party-Evening.jpg\n",
      "Downloading file:images/lizandLiz_5.jpg\n",
      "URL =  https://hips.hearstapps.com/hbz.h-cdn.co/assets/16/28/hbz-blake-lively-0712.jpg\n",
      "Downloading file:images/lizandLiz_6.jpg\n",
      "URL =  https://www.lizandliz.com/media/catalog/product/cache/4/thumbnail/9df78eab33525d08d6e5fb8d27136e95/b/l/blake-lively-silver-dress-trudeau-state-dinner-6.jpg\n",
      "Downloading file:images/lizandLiz_7.jpg\n",
      "URL =  https://www.lizandliz.com/media/catalog/product/cache/4/image/9df78eab33525d08d6e5fb8d27136e95/b/l/blake-lively-short-pink-dress-5.jpg\n",
      "Downloading file:images/lizandLiz_8.jpg\n",
      "URL =  https://hips.hearstapps.com/hmg-prod.s3.amazonaws.com/images/hbz-blake-look-1-1508175915.jpg?crop=1xw:1xh;center,top&resize=480:*\n",
      "Downloading file:images/lizandLiz_9.jpg\n",
      "URL =  https://www.dhresource.com/0x0s/f2-albu-g5-M01-9D-99-rBVaJFkQCkWAPvEBAAt-xXo0VhU136.jpg/blake-lively-black-velvet-evening-dresses.jpg\n",
      "Downloading file:images/lizandLiz_10.jpg\n",
      "URL =  https://hips.hearstapps.com/elleuk.cdnds.net/15/37/2048x2730/2048x2730-fd4a1de1-29f8-11e6-ae59-dba116282c33-assets-elleuk-com-gallery-16526-blake-lively-poppydress-jpg.jpg\n",
      "Downloading file:images/lizandLiz_11.jpg\n",
      "URL =  https://cdn-img.instyle.com/sites/default/files/styles/684xflex/public/images/2015/10/100115-blake-lively-9.jpg?itok=dOkzuTz8\n",
      "Downloading file:images/lizandLiz_12.jpg\n",
      "URL =  https://i.dailymail.co.uk/i/pix/2014/05/14/article-0-1DD751EC00000578-679_634x957.jpg\n",
      "Downloading file:images/lizandLiz_13.jpg\n",
      "URL =  http://www.irockbags.com/image/cache/data/01111A/blake-lively-gossip-girl-cutout-bandage-dress-3816-500x500.jpg\n",
      "Downloading file:images/lizandLiz_14.jpg\n",
      "URL =  https://hips.hearstapps.com/elleuk.cdnds.net/15/37/2048x2730/2048x2730-ery-16526-blake-lively-the-tonight-show-starring-jimmy-fallon-new-york-21-april-2015-rex-gallery-jpg.jpg\n",
      "Downloading file:images/lizandLiz_15.jpg\n",
      "URL =  https://cdn-img.instyle.com/sites/default/files/styles/684xflex/public/1492803871/042117-blake-lively-jumpsuit-1.jpg?itok=O_dlmBAD\n",
      "Downloading file:images/lizandLiz_16.jpg\n",
      "URL =  https://s.yimg.com/ny/api/res/1.2/Q_1rA3mS1ERkJOFDbnk5fw--~A/YXBwaWQ9aGlnaGxhbmRlcjtzbT0xO3c9NzQ0O2g9OTYy/http://media.zenfs.com/en/homerun/feed_manager_auto_publish_494/0ac4db5bc37f2293d47db226d317c9b5\n",
      "Downloading file:images/lizandLiz_17.jpg\n",
      "URL =  https://image.dhgate.com/0x0/f2/albu/g6/M00/89/D8/rBVaSFpMpBqAQYtJAAJVqpNQwMU285.jpg\n",
      "Downloading file:images/lizandLiz_18.jpg\n",
      "URL =  https://gl-images.condecdn.net/image/ZOEPXnkmq19/crop/1020/f/blake-lively_glamour_15feb18_gettyimages-918260998_p.jpg\n",
      "Downloading file:images/lizandLiz_19.jpg\n",
      "URL =  http://picture-cdn.wheretoget.it/xbf7k8-l.jpg\n",
      "Downloading file:images/lizandLiz_20.jpg\n",
      "URL =  https://amp.thisisinsider.com/images/5af1075dbd96714d008b46b2-750-562.jpg\n",
      "Downloading file:images/lizandLiz_21.jpg\n",
      "URL =  https://s.yimg.com/ny/api/res/1.2/6ocEUUoks49.PrnBQM4XxA--~A/YXBwaWQ9aGlnaGxhbmRlcjtzbT0xO3c9NzQ0O2g9MTE1Mw--/http://media.zenfs.com/en/homerun/feed_manager_auto_publish_494f26d8f99ba8e1765907496802793e2c2\n",
      "Downloading file:images/lizandLiz_22.jpg\n",
      "URL =  https://gl-images.condecdn.net/image/9JAzMdLwOZ8/crop/1020/f/Blake-Lively-17oct17-rexfeatures_9139425c.jpg\n",
      "Downloading file:images/lizandLiz_23.jpg\n",
      "URL =  https://image.dhgate.com/albu_318403114_00-1.0x0/gossip-girl-fashion-blake-lively-fashion.jpg\n",
      "Downloading file:images/lizandLiz_24.jpg\n",
      "URL =  https://hips.hearstapps.com/elleuk.cdnds.net/16/29/blake-lively-style-file-1.jpg\n",
      "Downloading file:images/lizandLiz_25.jpg\n",
      "URL =  https://www.xdressy.com/uploads/product/1/R/1R502/blake-lively-black-and-white-unique-strapless-two-tone-ball-gown-1.jpg\n",
      "Downloading file:images/lizandLiz_26.jpg\n",
      "URL =  http://ksassets.timeincuk.net/wp/uploads/sites/46/2016/07/Blake-Lively-3-2.jpg\n",
      "Downloading file:images/lizandLiz_27.jpg\n",
      "URL =  https://akns-images.eonline.com/eol_images/Entire_Site/2018216/rs_1024x759-180316113513-1024.Blake-Lively.Met-Gala.ms.0311618.jpg?fit=inside|900:auto&output-quality=90\n",
      "Downloading file:images/lizandLiz_28.jpg\n",
      "URL =  https://pmchollywoodlife.files.wordpress.com/2014/05/blake-lively-cannes-may-15-gty-ftr.jpg?w=600\n",
      "Downloading file:images/lizandLiz_29.jpg\n",
      "URL =  http://www.outfitidentifier.com/wp-content/uploads/2018/04/81.png\n",
      "Downloading file:images/lizandLiz_30.jpg\n",
      "URL =  https://peopledotcom.files.wordpress.com/2016/05/blake-lively-5-2.jpg\n",
      "Downloading file:images/lizandLiz_31.jpg\n",
      "URL =  https://www.thecelebritydresses.com/media/catalog/product/b/l/blake_lively_bandage_dress_gossip_girl_fashion_dress_4_1.jpg\n",
      "Downloading file:images/lizandLiz_32.jpg\n",
      "URL =  https://pmchollywoodlife.files.wordpress.com/2016/05/blake-lively-channels-queen-elsa-in-dress-ftr.jpg?w=600\n",
      "Downloading file:images/lizandLiz_33.jpg\n",
      "URL =  https://media1.popsugar-assets.com/files/thumbor/he8x_Tt8ZsyTTjSUx5LQWRkmh9s/fit-in/1024x1024/filters:format_auto-!!-:strip_icc-!!-/2017/05/01/960/n/1922564/39bdf1405907b0b3d20552.74243272_edit_img_cover_file_43488279_1493675935/i/Blake-Lively-Met-Gala-Dress-2017.jpg\n",
      "Downloading file:images/lizandLiz_34.jpg\n",
      "URL =  https://media1.popsugar-assets.com/files/thumbor/2LIdj9OwFtEUiAyq5Z22L7FAwJg/fit-in/1024x1024/filters:format_auto-!!-:strip_icc-!!-/2016/05/12/618/n/1922564/b01a846c53e14df2_GettyImages-530799058_master/i/her-film-premiere-Blake-Lively-went-movie-star-glamour.jpg\n",
      "Downloading file:images/lizandLiz_35.jpg\n",
      "URL =  https://www.redcarpet-fashionawards.com/wp-content/uploads/2017/10/Blake-Lively-In-Roland-Mouret-The-Tonight-Show-Starring-Jimmy-Fallon.jpg\n",
      "Downloading file:images/lizandLiz_36.jpg\n",
      "URL =  https://gl-images.condecdn.net/image/ZYyanmrD0oz/crop/1020/f/blake-lively2_glamour_18may16_GettyImages-b.jpg\n",
      "Downloading file:images/lizandLiz_37.jpg\n",
      "URL =  https://i.pinimg.com/736x/2b/5a/88/2b5a88f6b7f8efc6b4e0022ac0eca14e--blake-lively-style-blake-lively-dress.jpg\n",
      "Downloading file:images/lizandLiz_38.jpg\n",
      "URL =  https://cdn-img.instyle.com/sites/default/files/styles/684xflex/public/images/2015/10/100115-blake-lively-1.jpg?itok=8HAO1mU5\n",
      "Downloading file:images/lizandLiz_39.jpg\n",
      "URL =  http://www2.pictures.stylebistro.com/fp/Blake+Lively+Dresses+Skirts+Maternity+Dress+NXulMd0vyLCx.jpg\n",
      "Downloading file:images/lizandLiz_40.jpg\n",
      "URL =  https://assets.vogue.com/photos/5af0f7e7670c2534f2b0bdae/master/pass/square-blake-lively-celebrity-style.jpg\n",
      "Downloading file:images/lizandLiz_41.jpg\n",
      "URL =  https://vg-images.condecdn.net/image/WpjOyz573d5/crop/1020/f/blake-lively-vogue-11may16-rex_b.jpg\n",
      "Downloading file:images/lizandLiz_42.jpg\n",
      "URL =  https://cdn1.thr.com/sites/default/files/imagecache/landscape_928x523/2016/05/blake_lively_cinderella_split.jpg\n",
      "Downloading file:images/lizandLiz_43.jpg\n",
      "URL =  https://www.xdressy.com/uploads/product/2016/3/blake-lively-yellow-halter-plunging-bridesmaid-prom-dress-new-york-premiere.jpg\n",
      "Downloading file:images/lizandLiz_44.jpg\n",
      "URL =  https://i.dailymail.co.uk/i/pix/2014/05/14/article-0-1DD751E200000578-302_634x930.jpg\n",
      "Downloading file:images/lizandLiz_45.jpg\n",
      "URL =  https://hips.hearstapps.com/hmg-prod.s3.amazonaws.com/images/hbz-blake-lively-492355703-1521232859.jpg?crop=1xw:1xh;center,top&resize=480:*\n",
      "Downloading file:images/lizandLiz_46.jpg\n",
      "URL =  https://imagesvc.timeincapp.com/v3/mm/image?url=https%3A%2F%2Fcdn-img.instyle.com%2Fsites%2Fdefault%2Ffiles%2Fstyles%2F684xflex%2Fpublic%2Fimages%2F2016%2F07%2F071416-blake-lively-lead.jpg%3Fitok%3DJ9sLU9HZ&w=700&q=85\n",
      "Downloading file:images/lizandLiz_47.jpg\n"
     ]
    },
    {
     "name": "stdout",
     "output_type": "stream",
     "text": [
      "URL =  https://purewows3.imgix.net/images/articles/2018_05/blake-lively-met-gala-versace.jpg?auto=format,compress&cs=strip\n",
      "Downloading file:images/lizandLiz_48.jpg\n",
      "URL =  https://cdn1.thr.com/sites/default/files/2014/05/blake_lively_mr_turner_cannes_a_p.jpg\n",
      "Downloading file:images/lizandLiz_49.jpg\n",
      "URL =  https://www.fashiongonerogue.com/wp-content/uploads/2014/05/blake-lively-chanel-dress.jpg\n",
      "Downloading file:images/lizandLiz_50.jpg\n",
      "URL =  https://www.usmagazine.com/wp-content/uploads/blake-lively-220675b2-7388-4e41-913d-0ab1098402d6.jpg\n",
      "Downloading file:images/lizandLiz_51.jpg\n",
      "URL =  https://media.glamour.com/photos/576a12f1865b95b3404727c9/master/h_1025,c_limit/blake-lively-theshallows-premiere-dress-june-2016.jpg\n",
      "Downloading file:images/lizandLiz_52.jpg\n",
      "<class 'requests.exceptions.SSLError'> HTTPSConnectionPool(host='media.glamour.com', port=443): Max retries exceeded with url: /photos/576a12f1865b95b3404727c9/master/h_1025,c_limit/blake-lively-theshallows-premiere-dress-june-2016.jpg (Caused by SSLError(SSLError(1, '[SSL: WRONG_VERSION_NUMBER] wrong version number (_ssl.c:852)'),))\n",
      "URL =  https://www.celebredcarpetdresses.com/media/catalog/product/cache/8/thumbnail/9df78eab33525d08d6e5fb8d27136e95/b/l/blake-lively-blush-dress-gossip-girl-05.jpg\n",
      "Downloading file:images/lizandLiz_53.jpg\n"
     ]
    }
   ],
   "source": [
    "filename = 'url.txt'\n",
    "lines = open(filename, 'r')\n",
    "\n",
    "for i,img in enumerate(lines):\n",
    "    url_new = img.rstrip()#removing new line character\n",
    "  \n",
    "    file_name = directory + '/lizandLiz_' + str(i) + '.jpg'\n",
    "    print('URL = ', url_new)\n",
    "    print(\"Downloading file:%s\"%file_name)\n",
    "    try: \n",
    "        r = requests.get(url_new, stream=True,verify=True)\n",
    "        # this should be file_name variable instead of \"file_name\" string\n",
    "        with open(file_name, 'wb') as f:\n",
    "            for chunk in r:\n",
    "                f.write(chunk)\n",
    "    except Exception as x:\n",
    "        print(type(x),x)\n",
    "        pass  "
   ]
  },
  {
   "cell_type": "code",
   "execution_count": null,
   "metadata": {},
   "outputs": [],
   "source": []
  }
 ],
 "metadata": {
  "kernelspec": {
   "display_name": "Python 3",
   "language": "python",
   "name": "python3"
  },
  "language_info": {
   "codemirror_mode": {
    "name": "ipython",
    "version": 3
   },
   "file_extension": ".py",
   "mimetype": "text/x-python",
   "name": "python",
   "nbconvert_exporter": "python",
   "pygments_lexer": "ipython3",
   "version": "3.6.9"
  }
 },
 "nbformat": 4,
 "nbformat_minor": 2
}
