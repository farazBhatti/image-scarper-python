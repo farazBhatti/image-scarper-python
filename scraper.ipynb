{
 "cells": [
  {
   "cell_type": "code",
   "execution_count": null,
   "metadata": {},
   "outputs": [],
   "source": [
    "import urllib\n",
    "import requests"
   ]
  },
  {
   "cell_type": "code",
   "execution_count": null,
   "metadata": {},
   "outputs": [],
   "source": [
    "directory = \"images\"\n",
    " \n",
    "if not os.path.exists(directory):\n",
    "        os.mkdir(directory)\n",
    "        print('Directory made')\n",
    "print('Directory already  present')\n",
    "\n",
    "\n",
    "filename = 'url.txt'\n",
    "lines = list(open(filename, 'r'))"
   ]
  },
  {
   "cell_type": "code",
   "execution_count": null,
   "metadata": {},
   "outputs": [],
   "source": [
    "filename = 'url.txt'\n",
    "lines = open(filename, 'r')\n",
    "\n",
    "for i,img in enumerate(lines):\n",
    "    url_new = img.rstrip()#removing new line character\n",
    "  \n",
    "    file_name = directory + '/lizandLiz_' + str(i) + '.jpg'\n",
    "    print('URL = ', url_new)\n",
    "    print(\"Downloading file:%s\"%file_name)\n",
    "    try: \n",
    "        r = requests.get(url_new, stream=True,verify=True)\n",
    "        # this should be file_name variable instead of \"file_name\" string\n",
    "        with open(file_name, 'wb') as f:\n",
    "            for chunk in r:\n",
    "                f.write(chunk)\n",
    "    except Exception as x:\n",
    "        print(type(x),x)\n",
    "        pass  "
   ]
  }
 ],
 "metadata": {
  "kernelspec": {
   "display_name": "Python 3",
   "language": "python",
   "name": "python3"
  },
  "language_info": {
   "codemirror_mode": {
    "name": "ipython",
    "version": 3
   },
   "file_extension": ".py",
   "mimetype": "text/x-python",
   "name": "python",
   "nbconvert_exporter": "python",
   "pygments_lexer": "ipython3",
   "version": "3.6.9"
  }
 },
 "nbformat": 4,
 "nbformat_minor": 2
}
